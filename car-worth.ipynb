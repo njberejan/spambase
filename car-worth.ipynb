{
 "cells": [
  {
   "cell_type": "code",
   "execution_count": 52,
   "metadata": {
    "collapsed": true
   },
   "outputs": [],
   "source": [
    "import pandas as pd\n",
    "import matplotlib.pyplot as plt\n",
    "import numpy as np\n",
    "import seaborn\n",
    "import scipy\n",
    "import itertools\n",
    "from sklearn import linear_model\n",
    "from sklearn.cross_validation import train_test_split\n",
    "from sklearn.linear_model import LinearRegression\n",
    "from sklearn.pipeline import Pipeline\n",
    "from sklearn.preprocessing import PolynomialFeatures\n",
    "%matplotlib inline\n"
   ]
  },
  {
   "cell_type": "markdown",
   "metadata": {},
   "source": [
    "## How Much is Your Car Worth?\n",
    "\n",
    "Data about the retail price of 2005 General Motors cars can be found in car_data.csv.\n",
    "The columns are:\n",
    "\n",
    "1. Price: suggested retail price of the used 2005 GM car in excellent condition.\n",
    "2. Mileage: number of miles the car has been driven\n",
    "3. Make: manufacturer of the car such as Saturn, Pontiac, and Chevrolet\n",
    "4. Model: specific models for each car manufacturer such as Ion, Vibe, Cavalier\n",
    "5. Trim (of car): specific type of car model such as SE Sedan 4D, Quad Coupe 2D\n",
    "6. Type: body type such as sedan, coupe, etc.\n",
    "7. Cylinder: number of cylinders in the engine\n",
    "8. Liter: a more specific measure of engine size\n",
    "9. Doors: number of doors\n",
    "10. Cruise: indicator variable representing whether the car has cruise control (1 = cruise)\n",
    "11. Sound: indicator variable representing whether the car has upgraded speakers (1 = upgraded)\n",
    "12. Leather: indicator variable representing whether the car has leather seats (1 = leather)\n",
    "\n"
   ]
  },
  {
   "cell_type": "markdown",
   "metadata": {},
   "source": [
    "### Tasks, Part 1\n",
    "\n",
    "1. Find the linear regression equation for mileage vs price.\n",
    "2. Chart the original data and the equation on the chart.\n",
    "3. Find the equation's R2 score (use the .score method) to determine whether the equation is a good fit for this data. (0.8 and greater is considered a strong correlation.)"
   ]
  },
  {
   "cell_type": "code",
   "execution_count": 53,
   "metadata": {
    "collapsed": true
   },
   "outputs": [],
   "source": [
    "df = pd.read_csv(\"car_data.csv\")"
   ]
  },
  {
   "cell_type": "code",
   "execution_count": 54,
   "metadata": {
    "collapsed": false
   },
   "outputs": [
    {
     "data": {
      "text/html": [
       "<div>\n",
       "<table border=\"1\" class=\"dataframe\">\n",
       "  <thead>\n",
       "    <tr style=\"text-align: right;\">\n",
       "      <th></th>\n",
       "      <th>Price</th>\n",
       "      <th>Mileage</th>\n",
       "      <th>Make</th>\n",
       "      <th>Model</th>\n",
       "      <th>Trim</th>\n",
       "      <th>Type</th>\n",
       "      <th>Cylinder</th>\n",
       "      <th>Liter</th>\n",
       "      <th>Doors</th>\n",
       "      <th>Cruise</th>\n",
       "      <th>Sound</th>\n",
       "      <th>Leather</th>\n",
       "    </tr>\n",
       "  </thead>\n",
       "  <tbody>\n",
       "    <tr>\n",
       "      <th>0</th>\n",
       "      <td>17314.103129</td>\n",
       "      <td>8221</td>\n",
       "      <td>Buick</td>\n",
       "      <td>Century</td>\n",
       "      <td>Sedan 4D</td>\n",
       "      <td>Sedan</td>\n",
       "      <td>6</td>\n",
       "      <td>3.1</td>\n",
       "      <td>4</td>\n",
       "      <td>1</td>\n",
       "      <td>1</td>\n",
       "      <td>1</td>\n",
       "    </tr>\n",
       "    <tr>\n",
       "      <th>1</th>\n",
       "      <td>17542.036083</td>\n",
       "      <td>9135</td>\n",
       "      <td>Buick</td>\n",
       "      <td>Century</td>\n",
       "      <td>Sedan 4D</td>\n",
       "      <td>Sedan</td>\n",
       "      <td>6</td>\n",
       "      <td>3.1</td>\n",
       "      <td>4</td>\n",
       "      <td>1</td>\n",
       "      <td>1</td>\n",
       "      <td>0</td>\n",
       "    </tr>\n",
       "    <tr>\n",
       "      <th>2</th>\n",
       "      <td>16218.847862</td>\n",
       "      <td>13196</td>\n",
       "      <td>Buick</td>\n",
       "      <td>Century</td>\n",
       "      <td>Sedan 4D</td>\n",
       "      <td>Sedan</td>\n",
       "      <td>6</td>\n",
       "      <td>3.1</td>\n",
       "      <td>4</td>\n",
       "      <td>1</td>\n",
       "      <td>1</td>\n",
       "      <td>0</td>\n",
       "    </tr>\n",
       "    <tr>\n",
       "      <th>3</th>\n",
       "      <td>16336.913140</td>\n",
       "      <td>16342</td>\n",
       "      <td>Buick</td>\n",
       "      <td>Century</td>\n",
       "      <td>Sedan 4D</td>\n",
       "      <td>Sedan</td>\n",
       "      <td>6</td>\n",
       "      <td>3.1</td>\n",
       "      <td>4</td>\n",
       "      <td>1</td>\n",
       "      <td>0</td>\n",
       "      <td>0</td>\n",
       "    </tr>\n",
       "    <tr>\n",
       "      <th>4</th>\n",
       "      <td>16339.170324</td>\n",
       "      <td>19832</td>\n",
       "      <td>Buick</td>\n",
       "      <td>Century</td>\n",
       "      <td>Sedan 4D</td>\n",
       "      <td>Sedan</td>\n",
       "      <td>6</td>\n",
       "      <td>3.1</td>\n",
       "      <td>4</td>\n",
       "      <td>1</td>\n",
       "      <td>0</td>\n",
       "      <td>1</td>\n",
       "    </tr>\n",
       "  </tbody>\n",
       "</table>\n",
       "</div>"
      ],
      "text/plain": [
       "          Price  Mileage   Make    Model      Trim   Type  Cylinder  Liter  \\\n",
       "0  17314.103129     8221  Buick  Century  Sedan 4D  Sedan         6    3.1   \n",
       "1  17542.036083     9135  Buick  Century  Sedan 4D  Sedan         6    3.1   \n",
       "2  16218.847862    13196  Buick  Century  Sedan 4D  Sedan         6    3.1   \n",
       "3  16336.913140    16342  Buick  Century  Sedan 4D  Sedan         6    3.1   \n",
       "4  16339.170324    19832  Buick  Century  Sedan 4D  Sedan         6    3.1   \n",
       "\n",
       "   Doors  Cruise  Sound  Leather  \n",
       "0      4       1      1        1  \n",
       "1      4       1      1        0  \n",
       "2      4       1      1        0  \n",
       "3      4       1      0        0  \n",
       "4      4       1      0        1  "
      ]
     },
     "execution_count": 54,
     "metadata": {},
     "output_type": "execute_result"
    }
   ],
   "source": [
    "df.head()"
   ]
  },
  {
   "cell_type": "code",
   "execution_count": 55,
   "metadata": {
    "collapsed": true
   },
   "outputs": [],
   "source": [
    "x_and_y = df[['Mileage', 'Price']]"
   ]
  },
  {
   "cell_type": "code",
   "execution_count": 56,
   "metadata": {
    "collapsed": false
   },
   "outputs": [
    {
     "data": {
      "text/html": [
       "<div>\n",
       "<table border=\"1\" class=\"dataframe\">\n",
       "  <thead>\n",
       "    <tr style=\"text-align: right;\">\n",
       "      <th></th>\n",
       "      <th>Mileage</th>\n",
       "      <th>Price</th>\n",
       "    </tr>\n",
       "  </thead>\n",
       "  <tbody>\n",
       "    <tr>\n",
       "      <th>0</th>\n",
       "      <td>8221</td>\n",
       "      <td>17314.103129</td>\n",
       "    </tr>\n",
       "    <tr>\n",
       "      <th>1</th>\n",
       "      <td>9135</td>\n",
       "      <td>17542.036083</td>\n",
       "    </tr>\n",
       "    <tr>\n",
       "      <th>2</th>\n",
       "      <td>13196</td>\n",
       "      <td>16218.847862</td>\n",
       "    </tr>\n",
       "    <tr>\n",
       "      <th>3</th>\n",
       "      <td>16342</td>\n",
       "      <td>16336.913140</td>\n",
       "    </tr>\n",
       "    <tr>\n",
       "      <th>4</th>\n",
       "      <td>19832</td>\n",
       "      <td>16339.170324</td>\n",
       "    </tr>\n",
       "  </tbody>\n",
       "</table>\n",
       "</div>"
      ],
      "text/plain": [
       "   Mileage         Price\n",
       "0     8221  17314.103129\n",
       "1     9135  17542.036083\n",
       "2    13196  16218.847862\n",
       "3    16342  16336.913140\n",
       "4    19832  16339.170324"
      ]
     },
     "execution_count": 56,
     "metadata": {},
     "output_type": "execute_result"
    }
   ],
   "source": [
    "x_and_y.head()"
   ]
  },
  {
   "cell_type": "code",
   "execution_count": 57,
   "metadata": {
    "collapsed": false
   },
   "outputs": [],
   "source": [
    "x = x_and_y['Mileage']\n",
    "y = x_and_y['Price']\n",
    "train_X, test_X, train_y, test_y = train_test_split(x, y, random_state=101)"
   ]
  },
  {
   "cell_type": "code",
   "execution_count": 58,
   "metadata": {
    "collapsed": false
   },
   "outputs": [
    {
     "data": {
      "image/png": "[encoded data removed]",
      "text/plain": [
       "<matplotlib.figure.Figure at 0x10fc269e8>"
      ]
     },
     "metadata": {},
     "output_type": "display_data"
    }
   ],
   "source": [
    "model = Pipeline([\n",
    "    ('poly', PolynomialFeatures(degree=1)),\n",
    "    ('linear', LinearRegression(fit_intercept=False))])\n",
    "model_fit = model.fit(train_X.reshape(-1, 1), train_y.reshape(-1, 1))\n",
    "plt.scatter(train_X, train_y, color='g')\n",
    "plt.scatter(test_X, test_y, color='y')\n",
    "plt.plot(x.reshape(-1, 1), model.predict(x.reshape(-1, 1)))\n",
    "plt.show()"
   ]
  },
  {
   "cell_type": "code",
   "execution_count": 59,
   "metadata": {
    "collapsed": false
   },
   "outputs": [
    {
     "name": "stdout",
     "output_type": "stream",
     "text": [
      "Mileage R2 Score:  0.019829422002\n"
     ]
    }
   ],
   "source": [
    "print('Mileage R2 Score: ', model.score(x.reshape(-1, 1), y.reshape(-1, 1)))"
   ]
  },
  {
   "cell_type": "markdown",
   "metadata": {},
   "source": [
    "### Tasks, Part 2\n",
    "\n",
    "1. Use mileage, cylinders, liters, doors, cruise, sound, and leather to find the linear regression equation.\n",
    "2. Find the equation's R2 score (use the .score method) to determine whether the equation is a good fit for this data. (0.8 and greater is considered a strong correlation.)\n",
    "3. Find the combination of the factors that is the best predictor for price."
   ]
  },
  {
   "cell_type": "code",
   "execution_count": 60,
   "metadata": {
    "collapsed": false
   },
   "outputs": [],
   "source": [
    "new_frame = df[['Mileage', 'Cylinder', 'Liter', 'Doors', 'Cruise', 'Sound', 'Leather', 'Price']]"
   ]
  },
  {
   "cell_type": "code",
   "execution_count": 61,
   "metadata": {
    "collapsed": false
   },
   "outputs": [
    {
     "data": {
      "text/html": [
       "<div>\n",
       "<table border=\"1\" class=\"dataframe\">\n",
       "  <thead>\n",
       "    <tr style=\"text-align: right;\">\n",
       "      <th></th>\n",
       "      <th>Mileage</th>\n",
       "      <th>Cylinder</th>\n",
       "      <th>Liter</th>\n",
       "      <th>Doors</th>\n",
       "      <th>Cruise</th>\n",
       "      <th>Sound</th>\n",
       "      <th>Leather</th>\n",
       "      <th>Price</th>\n",
       "    </tr>\n",
       "  </thead>\n",
       "  <tbody>\n",
       "    <tr>\n",
       "      <th>0</th>\n",
       "      <td>8221</td>\n",
       "      <td>6</td>\n",
       "      <td>3.1</td>\n",
       "      <td>4</td>\n",
       "      <td>1</td>\n",
       "      <td>1</td>\n",
       "      <td>1</td>\n",
       "      <td>17314.103129</td>\n",
       "    </tr>\n",
       "    <tr>\n",
       "      <th>1</th>\n",
       "      <td>9135</td>\n",
       "      <td>6</td>\n",
       "      <td>3.1</td>\n",
       "      <td>4</td>\n",
       "      <td>1</td>\n",
       "      <td>1</td>\n",
       "      <td>0</td>\n",
       "      <td>17542.036083</td>\n",
       "    </tr>\n",
       "    <tr>\n",
       "      <th>2</th>\n",
       "      <td>13196</td>\n",
       "      <td>6</td>\n",
       "      <td>3.1</td>\n",
       "      <td>4</td>\n",
       "      <td>1</td>\n",
       "      <td>1</td>\n",
       "      <td>0</td>\n",
       "      <td>16218.847862</td>\n",
       "    </tr>\n",
       "    <tr>\n",
       "      <th>3</th>\n",
       "      <td>16342</td>\n",
       "      <td>6</td>\n",
       "      <td>3.1</td>\n",
       "      <td>4</td>\n",
       "      <td>1</td>\n",
       "      <td>0</td>\n",
       "      <td>0</td>\n",
       "      <td>16336.913140</td>\n",
       "    </tr>\n",
       "    <tr>\n",
       "      <th>4</th>\n",
       "      <td>19832</td>\n",
       "      <td>6</td>\n",
       "      <td>3.1</td>\n",
       "      <td>4</td>\n",
       "      <td>1</td>\n",
       "      <td>0</td>\n",
       "      <td>1</td>\n",
       "      <td>16339.170324</td>\n",
       "    </tr>\n",
       "  </tbody>\n",
       "</table>\n",
       "</div>"
      ],
      "text/plain": [
       "   Mileage  Cylinder  Liter  Doors  Cruise  Sound  Leather         Price\n",
       "0     8221         6    3.1      4       1      1        1  17314.103129\n",
       "1     9135         6    3.1      4       1      1        0  17542.036083\n",
       "2    13196         6    3.1      4       1      1        0  16218.847862\n",
       "3    16342         6    3.1      4       1      0        0  16336.913140\n",
       "4    19832         6    3.1      4       1      0        1  16339.170324"
      ]
     },
     "execution_count": 61,
     "metadata": {},
     "output_type": "execute_result"
    }
   ],
   "source": [
    "new_frame.head()"
   ]
  },
  {
   "cell_type": "code",
   "execution_count": 62,
   "metadata": {
    "collapsed": true
   },
   "outputs": [],
   "source": [
    "mileage = linear_model.LinearRegression()\n",
    "cylinder = linear_model.LinearRegression()\n",
    "liter = linear_model.LinearRegression()\n",
    "doors = linear_model.LinearRegression()\n",
    "cruise = linear_model.LinearRegression()\n",
    "sound = linear_model.LinearRegression()\n",
    "leather = linear_model.LinearRegression()"
   ]
  },
  {
   "cell_type": "code",
   "execution_count": 63,
   "metadata": {
    "collapsed": false
   },
   "outputs": [
    {
     "data": {
      "text/plain": [
       "LinearRegression(copy_X=True, fit_intercept=True, n_jobs=1, normalize=False)"
      ]
     },
     "execution_count": 63,
     "metadata": {},
     "output_type": "execute_result"
    }
   ],
   "source": [
    "mileage.fit(new_frame[['Mileage']], new_frame[['Price']])\n",
    "cylinder.fit(new_frame[['Cylinder']], new_frame[['Price']])\n",
    "liter.fit(new_frame[['Liter']], new_frame[['Price']])\n",
    "doors.fit(new_frame[['Doors']], new_frame[['Price']])\n",
    "cruise.fit(new_frame[['Cruise']], new_frame[['Price']])\n",
    "sound.fit(new_frame[['Sound']], new_frame[['Price']])\n",
    "leather.fit(new_frame[['Leather']], new_frame[['Price']])"
   ]
  },
  {
   "cell_type": "code",
   "execution_count": 64,
   "metadata": {
    "collapsed": false
   },
   "outputs": [
    {
     "name": "stdout",
     "output_type": "stream",
     "text": [
      "Mileage R2 Score:  0.0204634473235\n",
      "Mileage Coefficient:  [[-0.1725205]]\n",
      "Mileage Intercept:  [ 24764.55900606]\n",
      "~~~~~~~~~~~~~~~~~~~~~~~~~~~~~~~~~~~~~~~~\n",
      "Cylinder R2 Score:  0.323859037595\n",
      "Cylinder Coefficient:  [[ 4054.20250438]]\n",
      "Cylinder Intercept:  [-17.05748707]\n",
      "~~~~~~~~~~~~~~~~~~~~~~~~~~~~~~~~~~~~~~~~\n",
      "Liter R2 Score:  0.311526744279\n",
      "Liter Coefficient:  [[ 4990.39345781]]\n",
      "Liter Intercept:  [ 6185.75468278]\n",
      "~~~~~~~~~~~~~~~~~~~~~~~~~~~~~~~~~~~~~~~~\n",
      "Doors R2 Score:  0.0192514665915\n",
      "Doors Coefficient:  [[-1613.23238515]]\n",
      "Doors Intercept:  [ 27033.60029005]\n",
      "~~~~~~~~~~~~~~~~~~~~~~~~~~~~~~~~~~~~~~~~\n",
      "Cruise R2 Score:  0.185633009297\n",
      "Cruise Coefficient:  [[ 9862.32659956]]\n",
      "Cruise Intercept:  [ 13921.86566691]\n",
      "~~~~~~~~~~~~~~~~~~~~~~~~~~~~~~~~~~~~~~~~\n",
      "Sound R2 Score:  0.0154623876242\n",
      "Sound Coefficient:  [[-2631.40749469]]\n",
      "Sound Intercept:  [ 23130.14437939]\n",
      "~~~~~~~~~~~~~~~~~~~~~~~~~~~~~~~~~~~~~~~~\n",
      "Leather R2 Score:  0.0247108512641\n",
      "Leather Coefficient:  [[ 3473.4566033]]\n",
      "Leather Intercept:  [ 18828.77592762]\n"
     ]
    }
   ],
   "source": [
    "print('Mileage R2 Score: ', mileage.score(new_frame[['Mileage']], new_frame[['Price']]))\n",
    "print('Mileage Coefficient: ', mileage.coef_)\n",
    "print('Mileage Intercept: ', mileage.intercept_)\n",
    "print('~~~~~~~~~~~~~~~~~~~~~~~~~~~~~~~~~~~~~~~~')\n",
    "print('Cylinder R2 Score: ', cylinder.score(new_frame[['Cylinder']], new_frame[['Price']]))\n",
    "print('Cylinder Coefficient: ', cylinder.coef_)\n",
    "print('Cylinder Intercept: ', cylinder.intercept_)\n",
    "print('~~~~~~~~~~~~~~~~~~~~~~~~~~~~~~~~~~~~~~~~')\n",
    "print('Liter R2 Score: ', liter.score(new_frame[['Liter']], new_frame[['Price']]))\n",
    "print('Liter Coefficient: ', liter.coef_)\n",
    "print('Liter Intercept: ', liter.intercept_)\n",
    "print('~~~~~~~~~~~~~~~~~~~~~~~~~~~~~~~~~~~~~~~~')\n",
    "print('Doors R2 Score: ', doors.score(new_frame[['Doors']], new_frame[['Price']]))\n",
    "print('Doors Coefficient: ', doors.coef_)\n",
    "print('Doors Intercept: ', doors.intercept_)\n",
    "print('~~~~~~~~~~~~~~~~~~~~~~~~~~~~~~~~~~~~~~~~')\n",
    "print('Cruise R2 Score: ', cruise.score(new_frame[['Cruise']], new_frame[['Price']]))\n",
    "print('Cruise Coefficient: ', cruise.coef_)\n",
    "print('Cruise Intercept: ', cruise.intercept_)\n",
    "print('~~~~~~~~~~~~~~~~~~~~~~~~~~~~~~~~~~~~~~~~')\n",
    "print('Sound R2 Score: ', sound.score(new_frame[['Sound']], new_frame[['Price']]))\n",
    "print('Sound Coefficient: ', sound.coef_)\n",
    "print('Sound Intercept: ', sound.intercept_)\n",
    "print('~~~~~~~~~~~~~~~~~~~~~~~~~~~~~~~~~~~~~~~~')\n",
    "print('Leather R2 Score: ', leather.score(new_frame[['Leather']], new_frame[['Price']]))\n",
    "print('Leather Coefficient: ', leather.coef_)\n",
    "print('Leather Intercept: ', leather.intercept_)"
   ]
  },
  {
   "cell_type": "markdown",
   "metadata": {},
   "source": [
    "The best indicator for price is number of cylinders, number of liters, and mileage on the car."
   ]
  },
  {
   "cell_type": "code",
   "execution_count": 89,
   "metadata": {
    "collapsed": false
   },
   "outputs": [
    {
     "data": {
      "text/plain": [
       "[(0.4456909210587025,\n",
       "  ['Mileage', 'Cylinder', 'Doors', 'Cruise', 'Sound', 'Leather']),\n",
       " (0.43780574153663798,\n",
       "  ['Mileage', 'Cylinder', 'Liter', 'Doors', 'Cruise', 'Leather']),\n",
       " (0.4369402151237245, ['Mileage', 'Cylinder', 'Doors', 'Cruise', 'Leather']),\n",
       " (0.43014148406475605,\n",
       "  ['Mileage', 'Cylinder', 'Liter', 'Cruise', 'Sound', 'Leather']),\n",
       " (0.43001820483252673, ['Mileage', 'Cylinder', 'Cruise', 'Sound', 'Leather']),\n",
       " (0.4265348637809262,\n",
       "  ['Cylinder', 'Liter', 'Doors', 'Cruise', 'Sound', 'Leather']),\n",
       " (0.42576813279744208, ['Cylinder', 'Doors', 'Cruise', 'Sound', 'Leather']),\n",
       " (0.42482840454267845,\n",
       "  ['Mileage', 'Liter', 'Doors', 'Cruise', 'Sound', 'Leather']),\n",
       " (0.42441824017998753,\n",
       "  ['Mileage', 'Cylinder', 'Liter', 'Doors', 'Cruise', 'Sound']),\n",
       " (0.42409748258510394, ['Mileage', 'Cylinder', 'Doors', 'Cruise', 'Sound']),\n",
       " (0.4225307670398466, ['Mileage', 'Cylinder', 'Liter', 'Cruise', 'Leather']),\n",
       " (0.42250742147747633, ['Mileage', 'Cylinder', 'Cruise', 'Leather']),\n",
       " (0.41965804777032423, ['Mileage', 'Cylinder', 'Liter', 'Doors', 'Cruise']),\n",
       " (0.41914964510731778, ['Mileage', 'Cylinder', 'Doors', 'Cruise']),\n",
       " (0.41883942180571321, ['Cylinder', 'Liter', 'Doors', 'Cruise', 'Leather']),\n",
       " (0.41776027370197188, ['Cylinder', 'Doors', 'Cruise', 'Leather']),\n",
       " (0.41650804904235117, ['Mileage', 'Liter', 'Cruise', 'Sound', 'Leather']),\n",
       " (0.41400922316303501, ['Mileage', 'Liter', 'Doors', 'Cruise', 'Leather']),\n",
       " (0.41070295264410461, ['Cylinder', 'Liter', 'Cruise', 'Sound', 'Leather']),\n",
       " (0.41065494158588822, ['Cylinder', 'Cruise', 'Sound', 'Leather']),\n",
       " (0.40678789687026884, ['Mileage', 'Liter', 'Cruise', 'Leather']),\n",
       " (0.40654915865835195, ['Mileage', 'Cylinder', 'Liter', 'Cruise', 'Sound']),\n",
       " (0.4061644982625815, ['Mileage', 'Cylinder', 'Cruise', 'Sound']),\n",
       " (0.40509275150578561, ['Cylinder', 'Liter', 'Doors', 'Cruise', 'Sound']),\n",
       " (0.40462307098659855, ['Cylinder', 'Doors', 'Cruise', 'Sound']),\n",
       " (0.40380376425767606, ['Cylinder', 'Liter', 'Cruise', 'Leather']),\n",
       " (0.40380272693971553, ['Cylinder', 'Cruise', 'Leather']),\n",
       " (0.40346337208358085, ['Liter', 'Doors', 'Cruise', 'Sound', 'Leather']),\n",
       " (0.40312131702115361, ['Mileage', 'Liter', 'Doors', 'Cruise', 'Sound']),\n",
       " (0.40258426189243079, ['Mileage', 'Cylinder', 'Liter', 'Cruise']),\n",
       " (0.40237458603160192, ['Mileage', 'Cylinder', 'Cruise']),\n",
       " (0.40087486932703054, ['Cylinder', 'Liter', 'Doors', 'Cruise']),\n",
       " (0.4001989079545567, ['Cylinder', 'Doors', 'Cruise']),\n",
       " (0.39653266980131807, ['Mileage', 'Liter', 'Doors', 'Cruise']),\n",
       " (0.39564260736568424, ['Liter', 'Cruise', 'Sound', 'Leather']),\n",
       " (0.39346849142215845, ['Mileage', 'Liter', 'Cruise', 'Sound']),\n",
       " (0.39345887351036224, ['Liter', 'Doors', 'Cruise', 'Leather']),\n",
       " (0.38792398390551597, ['Mileage', 'Liter', 'Cruise']),\n",
       " (0.38754312167360194, ['Cylinder', 'Liter', 'Cruise', 'Sound']),\n",
       " (0.38730580222964561, ['Cylinder', 'Cruise', 'Sound']),\n",
       " (0.38665505937731115, ['Liter', 'Cruise', 'Leather']),\n",
       " (0.38406220085245035, ['Cylinder', 'Liter', 'Cruise']),\n",
       " (0.38394913240273443, ['Cylinder', 'Cruise']),\n",
       " (0.38271504500215792,\n",
       "  ['Mileage', 'Cylinder', 'Liter', 'Doors', 'Sound', 'Leather']),\n",
       " (0.38258521179336924, ['Mileage', 'Cylinder', 'Doors', 'Sound', 'Leather']),\n",
       " (0.38218087776588228, ['Liter', 'Doors', 'Cruise', 'Sound']),\n",
       " (0.37619168053479668, ['Liter', 'Doors', 'Cruise']),\n",
       " (0.37307455961414571, ['Liter', 'Cruise', 'Sound']),\n",
       " (0.37136690890240676, ['Mileage', 'Cylinder', 'Liter', 'Doors', 'Leather']),\n",
       " (0.37133199838451947, ['Mileage', 'Cylinder', 'Doors', 'Leather']),\n",
       " (0.36804584902968451, ['Liter', 'Cruise']),\n",
       " (0.36771522262682865, ['Mileage', 'Cylinder', 'Liter', 'Doors', 'Sound']),\n",
       " (0.36749912969736809, ['Mileage', 'Cylinder', 'Doors', 'Sound']),\n",
       " (0.36529423283997198, ['Mileage', 'Cylinder', 'Liter', 'Sound', 'Leather']),\n",
       " (0.36516944395094464, ['Cylinder', 'Liter', 'Doors', 'Sound', 'Leather']),\n",
       " (0.36511700356207033, ['Cylinder', 'Doors', 'Sound', 'Leather']),\n",
       " (0.36329101174690714, ['Mileage', 'Liter', 'Doors', 'Sound', 'Leather']),\n",
       " (0.36278410378592452, ['Mileage', 'Cylinder', 'Sound', 'Leather']),\n",
       " (0.36012506330270933, ['Mileage', 'Cylinder', 'Liter', 'Doors']),\n",
       " (0.3600299189649302, ['Mileage', 'Cylinder', 'Doors']),\n",
       " (0.35494044305575101, ['Mileage', 'Cylinder', 'Liter', 'Leather']),\n",
       " (0.3547068894092531, ['Cylinder', 'Liter', 'Doors', 'Leather']),\n",
       " (0.35470261300089978, ['Cylinder', 'Doors', 'Leather']),\n",
       " (0.35363153818528126, ['Mileage', 'Liter', 'Sound', 'Leather']),\n",
       " (0.35303578931823965, ['Mileage', 'Cylinder', 'Leather']),\n",
       " (0.35038121816111234, ['Cylinder', 'Liter', 'Doors', 'Sound']),\n",
       " (0.35026993301337672, ['Cylinder', 'Doors', 'Sound']),\n",
       " (0.34940517971815865, ['Mileage', 'Liter', 'Doors', 'Leather']),\n",
       " (0.34885465224422074, ['Mileage', 'Cylinder', 'Liter', 'Sound']),\n",
       " (0.34830222786670784, ['Mileage', 'Liter', 'Doors', 'Sound']),\n",
       " (0.34805583937456297, ['Cylinder', 'Liter', 'Sound', 'Leather']),\n",
       " (0.34598533275416787, ['Cylinder', 'Sound', 'Leather']),\n",
       " (0.34579303945195394, ['Mileage', 'Cylinder', 'Sound']),\n",
       " (0.34423975807564111, ['Liter', 'Doors', 'Sound', 'Leather']),\n",
       " (0.34349547806895953, ['Cylinder', 'Liter', 'Doors']),\n",
       " (0.34346053658303799, ['Cylinder', 'Doors']),\n",
       " (0.34228021178720835, ['Mileage', 'Cylinder', 'Liter']),\n",
       " (0.34105691618639966, ['Mileage', 'Liter', 'Leather']),\n",
       " (0.33982070826367505, ['Mileage', 'Cylinder']),\n",
       " (0.33859102766485816, ['Mileage', 'Liter', 'Doors']),\n",
       " (0.33853269361625415, ['Cylinder', 'Liter', 'Leather']),\n",
       " (0.33752524526419558, ['Mileage', 'Liter', 'Sound']),\n",
       " (0.33698000644980575, ['Cylinder', 'Leather']),\n",
       " (0.33511407076463451, ['Liter', 'Sound', 'Leather']),\n",
       " (0.33184860453157139, ['Cylinder', 'Liter', 'Sound']),\n",
       " (0.33128445385290362, ['Liter', 'Doors', 'Leather']),\n",
       " (0.32947196699054004, ['Liter', 'Doors', 'Sound']),\n",
       " (0.32927527347959384, ['Cylinder', 'Sound']),\n",
       " (0.32912790668541569, ['Mileage', 'Liter']),\n",
       " (0.32591551601566571, ['Cylinder', 'Liter']),\n",
       " (0.32385903759512258, ['Cylinder']),\n",
       " (0.32337917189904186, ['Liter', 'Leather']),\n",
       " (0.32051564077668337, ['Liter', 'Doors']),\n",
       " (0.31926427639502897, ['Liter', 'Sound']),\n",
       " (0.31152674427904514, ['Liter']),\n",
       " (0.27282594767567814, ['Mileage', 'Doors', 'Cruise', 'Sound', 'Leather']),\n",
       " (0.25940138565675619, ['Mileage', 'Cruise', 'Sound', 'Leather']),\n",
       " (0.2566547812611919, ['Mileage', 'Doors', 'Cruise', 'Leather']),\n",
       " (0.24744913495807544, ['Doors', 'Cruise', 'Sound', 'Leather']),\n",
       " (0.24484643441472975, ['Mileage', 'Cruise', 'Leather']),\n",
       " (0.23464406340531807, ['Cruise', 'Sound', 'Leather']),\n",
       " (0.23336920288580457, ['Mileage', 'Doors', 'Cruise', 'Sound']),\n",
       " (0.23229120295179528, ['Doors', 'Cruise', 'Leather']),\n",
       " (0.22390314076364659, ['Mileage', 'Doors', 'Cruise']),\n",
       " (0.22100420521798445, ['Cruise', 'Leather']),\n",
       " (0.21721656906779263, ['Mileage', 'Cruise', 'Sound']),\n",
       " (0.2093138558315859, ['Mileage', 'Cruise']),\n",
       " (0.20835368888535311, ['Doors', 'Cruise', 'Sound']),\n",
       " (0.1996382468921617, ['Doors', 'Cruise']),\n",
       " (0.19288948066869627, ['Cruise', 'Sound']),\n",
       " (0.1856330092969275, ['Cruise']),\n",
       " (0.089337093793707023, ['Mileage', 'Doors', 'Sound', 'Leather']),\n",
       " (0.069659406224365061, ['Mileage', 'Sound', 'Leather']),\n",
       " (0.066873133161888476, ['Doors', 'Sound', 'Leather']),\n",
       " (0.062563921219877083, ['Mileage', 'Doors', 'Leather']),\n",
       " (0.059250543920426613, ['Mileage', 'Doors', 'Sound']),\n",
       " (0.047953690920827241, ['Sound', 'Leather']),\n",
       " (0.045219563408868568, ['Mileage', 'Leather']),\n",
       " (0.041418173468660391, ['Doors', 'Leather']),\n",
       " (0.040399148671187213, ['Mileage', 'Doors']),\n",
       " (0.037016287709034312, ['Doors', 'Sound']),\n",
       " (0.036881215967350056, ['Mileage', 'Sound']),\n",
       " (0.024710851264124534, ['Leather']),\n",
       " (0.020463447323489481, ['Mileage']),\n",
       " (0.019251466591467259, ['Doors']),\n",
       " (0.015462387624189167, ['Sound'])]"
      ]
     },
     "execution_count": 89,
     "metadata": {},
     "output_type": "execute_result"
    }
   ],
   "source": [
    "feature_columns = ['Mileage', 'Cylinder', 'Liter', 'Doors', 'Cruise', 'Sound', 'Leather']\n",
    "price = df['Price']\n",
    "\n",
    "combinations = [list(itertools.combinations(feature_columns, x)) for x in range(1,7)]\n",
    "massaged_combos = []\n",
    "for lst in combinations:\n",
    "    for iterable in lst:\n",
    "        massaged_combos.append(list(iterable))\n",
    "\n",
    "scores = []\n",
    "for lst in massaged_combos:\n",
    "    regr_cars = linear_model.LinearRegression()\n",
    "    regr_cars.fit(df[lst], price)\n",
    "    scores.append((regr_cars.score(df[lst], price), lst))\n",
    "    \n",
    "sorted(scores, reverse=True)"
   ]
  },
  {
   "cell_type": "markdown",
   "metadata": {},
   "source": [
    "'Mileage', 'Cylinder', 'Doors', 'Cruise', 'Sound', and 'Leather' are the best predictors of price."
   ]
  },
  {
   "cell_type": "markdown",
   "metadata": {},
   "source": [
    "### Tasks, Part 3\n",
    "\n",
    "1. Research dummy variables in scikit-learn to see how to use the make, model, and body type.\n",
    "2. Find the best combination of factors to predict price."
   ]
  },
  {
   "cell_type": "code",
   "execution_count": 94,
   "metadata": {
    "collapsed": false
   },
   "outputs": [],
   "source": [
    "dummy_make = pd.get_dummies(df[['Make']])\n",
    "dummy_model = pd.get_dummies(df[['Model']])\n",
    "dummy_type = pd.get_dummies(df[['Type']])"
   ]
  },
  {
   "cell_type": "code",
   "execution_count": 95,
   "metadata": {
    "collapsed": false
   },
   "outputs": [
    {
     "data": {
      "text/html": [
       "<div>\n",
       "<table border=\"1\" class=\"dataframe\">\n",
       "  <thead>\n",
       "    <tr style=\"text-align: right;\">\n",
       "      <th></th>\n",
       "      <th>Make_Buick</th>\n",
       "      <th>Make_Cadillac</th>\n",
       "      <th>Make_Chevrolet</th>\n",
       "      <th>Make_Pontiac</th>\n",
       "      <th>Make_SAAB</th>\n",
       "      <th>Make_Saturn</th>\n",
       "    </tr>\n",
       "  </thead>\n",
       "  <tbody>\n",
       "    <tr>\n",
       "      <th>0</th>\n",
       "      <td>1.0</td>\n",
       "      <td>0.0</td>\n",
       "      <td>0.0</td>\n",
       "      <td>0.0</td>\n",
       "      <td>0.0</td>\n",
       "      <td>0.0</td>\n",
       "    </tr>\n",
       "    <tr>\n",
       "      <th>1</th>\n",
       "      <td>1.0</td>\n",
       "      <td>0.0</td>\n",
       "      <td>0.0</td>\n",
       "      <td>0.0</td>\n",
       "      <td>0.0</td>\n",
       "      <td>0.0</td>\n",
       "    </tr>\n",
       "    <tr>\n",
       "      <th>2</th>\n",
       "      <td>1.0</td>\n",
       "      <td>0.0</td>\n",
       "      <td>0.0</td>\n",
       "      <td>0.0</td>\n",
       "      <td>0.0</td>\n",
       "      <td>0.0</td>\n",
       "    </tr>\n",
       "    <tr>\n",
       "      <th>3</th>\n",
       "      <td>1.0</td>\n",
       "      <td>0.0</td>\n",
       "      <td>0.0</td>\n",
       "      <td>0.0</td>\n",
       "      <td>0.0</td>\n",
       "      <td>0.0</td>\n",
       "    </tr>\n",
       "    <tr>\n",
       "      <th>4</th>\n",
       "      <td>1.0</td>\n",
       "      <td>0.0</td>\n",
       "      <td>0.0</td>\n",
       "      <td>0.0</td>\n",
       "      <td>0.0</td>\n",
       "      <td>0.0</td>\n",
       "    </tr>\n",
       "  </tbody>\n",
       "</table>\n",
       "</div>"
      ],
      "text/plain": [
       "   Make_Buick  Make_Cadillac  Make_Chevrolet  Make_Pontiac  Make_SAAB  \\\n",
       "0         1.0            0.0             0.0           0.0        0.0   \n",
       "1         1.0            0.0             0.0           0.0        0.0   \n",
       "2         1.0            0.0             0.0           0.0        0.0   \n",
       "3         1.0            0.0             0.0           0.0        0.0   \n",
       "4         1.0            0.0             0.0           0.0        0.0   \n",
       "\n",
       "   Make_Saturn  \n",
       "0          0.0  \n",
       "1          0.0  \n",
       "2          0.0  \n",
       "3          0.0  \n",
       "4          0.0  "
      ]
     },
     "execution_count": 95,
     "metadata": {},
     "output_type": "execute_result"
    }
   ],
   "source": [
    "dummy_make.head()"
   ]
  },
  {
   "cell_type": "code",
   "execution_count": 96,
   "metadata": {
    "collapsed": false
   },
   "outputs": [
    {
     "data": {
      "text/html": [
       "<div>\n",
       "<table border=\"1\" class=\"dataframe\">\n",
       "  <thead>\n",
       "    <tr style=\"text-align: right;\">\n",
       "      <th></th>\n",
       "      <th>Model_9-2X AWD</th>\n",
       "      <th>Model_9_3</th>\n",
       "      <th>Model_9_3 HO</th>\n",
       "      <th>Model_9_5</th>\n",
       "      <th>Model_9_5 HO</th>\n",
       "      <th>Model_AVEO</th>\n",
       "      <th>Model_Bonneville</th>\n",
       "      <th>Model_CST-V</th>\n",
       "      <th>Model_CTS</th>\n",
       "      <th>Model_Cavalier</th>\n",
       "      <th>...</th>\n",
       "      <th>Model_Lacrosse</th>\n",
       "      <th>Model_Lesabre</th>\n",
       "      <th>Model_Malibu</th>\n",
       "      <th>Model_Monte Carlo</th>\n",
       "      <th>Model_Park Avenue</th>\n",
       "      <th>Model_STS-V6</th>\n",
       "      <th>Model_STS-V8</th>\n",
       "      <th>Model_Sunfire</th>\n",
       "      <th>Model_Vibe</th>\n",
       "      <th>Model_XLR-V8</th>\n",
       "    </tr>\n",
       "  </thead>\n",
       "  <tbody>\n",
       "    <tr>\n",
       "      <th>0</th>\n",
       "      <td>0.0</td>\n",
       "      <td>0.0</td>\n",
       "      <td>0.0</td>\n",
       "      <td>0.0</td>\n",
       "      <td>0.0</td>\n",
       "      <td>0.0</td>\n",
       "      <td>0.0</td>\n",
       "      <td>0.0</td>\n",
       "      <td>0.0</td>\n",
       "      <td>0.0</td>\n",
       "      <td>...</td>\n",
       "      <td>0.0</td>\n",
       "      <td>0.0</td>\n",
       "      <td>0.0</td>\n",
       "      <td>0.0</td>\n",
       "      <td>0.0</td>\n",
       "      <td>0.0</td>\n",
       "      <td>0.0</td>\n",
       "      <td>0.0</td>\n",
       "      <td>0.0</td>\n",
       "      <td>0.0</td>\n",
       "    </tr>\n",
       "    <tr>\n",
       "      <th>1</th>\n",
       "      <td>0.0</td>\n",
       "      <td>0.0</td>\n",
       "      <td>0.0</td>\n",
       "      <td>0.0</td>\n",
       "      <td>0.0</td>\n",
       "      <td>0.0</td>\n",
       "      <td>0.0</td>\n",
       "      <td>0.0</td>\n",
       "      <td>0.0</td>\n",
       "      <td>0.0</td>\n",
       "      <td>...</td>\n",
       "      <td>0.0</td>\n",
       "      <td>0.0</td>\n",
       "      <td>0.0</td>\n",
       "      <td>0.0</td>\n",
       "      <td>0.0</td>\n",
       "      <td>0.0</td>\n",
       "      <td>0.0</td>\n",
       "      <td>0.0</td>\n",
       "      <td>0.0</td>\n",
       "      <td>0.0</td>\n",
       "    </tr>\n",
       "    <tr>\n",
       "      <th>2</th>\n",
       "      <td>0.0</td>\n",
       "      <td>0.0</td>\n",
       "      <td>0.0</td>\n",
       "      <td>0.0</td>\n",
       "      <td>0.0</td>\n",
       "      <td>0.0</td>\n",
       "      <td>0.0</td>\n",
       "      <td>0.0</td>\n",
       "      <td>0.0</td>\n",
       "      <td>0.0</td>\n",
       "      <td>...</td>\n",
       "      <td>0.0</td>\n",
       "      <td>0.0</td>\n",
       "      <td>0.0</td>\n",
       "      <td>0.0</td>\n",
       "      <td>0.0</td>\n",
       "      <td>0.0</td>\n",
       "      <td>0.0</td>\n",
       "      <td>0.0</td>\n",
       "      <td>0.0</td>\n",
       "      <td>0.0</td>\n",
       "    </tr>\n",
       "    <tr>\n",
       "      <th>3</th>\n",
       "      <td>0.0</td>\n",
       "      <td>0.0</td>\n",
       "      <td>0.0</td>\n",
       "      <td>0.0</td>\n",
       "      <td>0.0</td>\n",
       "      <td>0.0</td>\n",
       "      <td>0.0</td>\n",
       "      <td>0.0</td>\n",
       "      <td>0.0</td>\n",
       "      <td>0.0</td>\n",
       "      <td>...</td>\n",
       "      <td>0.0</td>\n",
       "      <td>0.0</td>\n",
       "      <td>0.0</td>\n",
       "      <td>0.0</td>\n",
       "      <td>0.0</td>\n",
       "      <td>0.0</td>\n",
       "      <td>0.0</td>\n",
       "      <td>0.0</td>\n",
       "      <td>0.0</td>\n",
       "      <td>0.0</td>\n",
       "    </tr>\n",
       "    <tr>\n",
       "      <th>4</th>\n",
       "      <td>0.0</td>\n",
       "      <td>0.0</td>\n",
       "      <td>0.0</td>\n",
       "      <td>0.0</td>\n",
       "      <td>0.0</td>\n",
       "      <td>0.0</td>\n",
       "      <td>0.0</td>\n",
       "      <td>0.0</td>\n",
       "      <td>0.0</td>\n",
       "      <td>0.0</td>\n",
       "      <td>...</td>\n",
       "      <td>0.0</td>\n",
       "      <td>0.0</td>\n",
       "      <td>0.0</td>\n",
       "      <td>0.0</td>\n",
       "      <td>0.0</td>\n",
       "      <td>0.0</td>\n",
       "      <td>0.0</td>\n",
       "      <td>0.0</td>\n",
       "      <td>0.0</td>\n",
       "      <td>0.0</td>\n",
       "    </tr>\n",
       "  </tbody>\n",
       "</table>\n",
       "<p>5 rows × 32 columns</p>\n",
       "</div>"
      ],
      "text/plain": [
       "   Model_9-2X AWD  Model_9_3  Model_9_3 HO  Model_9_5  Model_9_5 HO  \\\n",
       "0             0.0        0.0           0.0        0.0           0.0   \n",
       "1             0.0        0.0           0.0        0.0           0.0   \n",
       "2             0.0        0.0           0.0        0.0           0.0   \n",
       "3             0.0        0.0           0.0        0.0           0.0   \n",
       "4             0.0        0.0           0.0        0.0           0.0   \n",
       "\n",
       "   Model_AVEO  Model_Bonneville  Model_CST-V  Model_CTS  Model_Cavalier  \\\n",
       "0         0.0               0.0          0.0        0.0             0.0   \n",
       "1         0.0               0.0          0.0        0.0             0.0   \n",
       "2         0.0               0.0          0.0        0.0             0.0   \n",
       "3         0.0               0.0          0.0        0.0             0.0   \n",
       "4         0.0               0.0          0.0        0.0             0.0   \n",
       "\n",
       "       ...       Model_Lacrosse  Model_Lesabre  Model_Malibu  \\\n",
       "0      ...                  0.0            0.0           0.0   \n",
       "1      ...                  0.0            0.0           0.0   \n",
       "2      ...                  0.0            0.0           0.0   \n",
       "3      ...                  0.0            0.0           0.0   \n",
       "4      ...                  0.0            0.0           0.0   \n",
       "\n",
       "   Model_Monte Carlo  Model_Park Avenue  Model_STS-V6  Model_STS-V8  \\\n",
       "0                0.0                0.0           0.0           0.0   \n",
       "1                0.0                0.0           0.0           0.0   \n",
       "2                0.0                0.0           0.0           0.0   \n",
       "3                0.0                0.0           0.0           0.0   \n",
       "4                0.0                0.0           0.0           0.0   \n",
       "\n",
       "   Model_Sunfire  Model_Vibe  Model_XLR-V8  \n",
       "0            0.0         0.0           0.0  \n",
       "1            0.0         0.0           0.0  \n",
       "2            0.0         0.0           0.0  \n",
       "3            0.0         0.0           0.0  \n",
       "4            0.0         0.0           0.0  \n",
       "\n",
       "[5 rows x 32 columns]"
      ]
     },
     "execution_count": 96,
     "metadata": {},
     "output_type": "execute_result"
    }
   ],
   "source": [
    "dummy_model.head()"
   ]
  },
  {
   "cell_type": "code",
   "execution_count": 97,
   "metadata": {
    "collapsed": false
   },
   "outputs": [
    {
     "data": {
      "text/html": [
       "<div>\n",
       "<table border=\"1\" class=\"dataframe\">\n",
       "  <thead>\n",
       "    <tr style=\"text-align: right;\">\n",
       "      <th></th>\n",
       "      <th>Type_Convertible</th>\n",
       "      <th>Type_Coupe</th>\n",
       "      <th>Type_Hatchback</th>\n",
       "      <th>Type_Sedan</th>\n",
       "      <th>Type_Wagon</th>\n",
       "    </tr>\n",
       "  </thead>\n",
       "  <tbody>\n",
       "    <tr>\n",
       "      <th>0</th>\n",
       "      <td>0.0</td>\n",
       "      <td>0.0</td>\n",
       "      <td>0.0</td>\n",
       "      <td>1.0</td>\n",
       "      <td>0.0</td>\n",
       "    </tr>\n",
       "    <tr>\n",
       "      <th>1</th>\n",
       "      <td>0.0</td>\n",
       "      <td>0.0</td>\n",
       "      <td>0.0</td>\n",
       "      <td>1.0</td>\n",
       "      <td>0.0</td>\n",
       "    </tr>\n",
       "    <tr>\n",
       "      <th>2</th>\n",
       "      <td>0.0</td>\n",
       "      <td>0.0</td>\n",
       "      <td>0.0</td>\n",
       "      <td>1.0</td>\n",
       "      <td>0.0</td>\n",
       "    </tr>\n",
       "    <tr>\n",
       "      <th>3</th>\n",
       "      <td>0.0</td>\n",
       "      <td>0.0</td>\n",
       "      <td>0.0</td>\n",
       "      <td>1.0</td>\n",
       "      <td>0.0</td>\n",
       "    </tr>\n",
       "    <tr>\n",
       "      <th>4</th>\n",
       "      <td>0.0</td>\n",
       "      <td>0.0</td>\n",
       "      <td>0.0</td>\n",
       "      <td>1.0</td>\n",
       "      <td>0.0</td>\n",
       "    </tr>\n",
       "  </tbody>\n",
       "</table>\n",
       "</div>"
      ],
      "text/plain": [
       "   Type_Convertible  Type_Coupe  Type_Hatchback  Type_Sedan  Type_Wagon\n",
       "0               0.0         0.0             0.0         1.0         0.0\n",
       "1               0.0         0.0             0.0         1.0         0.0\n",
       "2               0.0         0.0             0.0         1.0         0.0\n",
       "3               0.0         0.0             0.0         1.0         0.0\n",
       "4               0.0         0.0             0.0         1.0         0.0"
      ]
     },
     "execution_count": 97,
     "metadata": {},
     "output_type": "execute_result"
    }
   ],
   "source": [
    "dummy_type.head()"
   ]
  },
  {
   "cell_type": "code",
   "execution_count": 99,
   "metadata": {
    "collapsed": false
   },
   "outputs": [
    {
     "ename": "ValueError",
     "evalue": "cannot copy sequence with size 804 to array axis with dimension 6",
     "output_type": "error",
     "traceback": [
      "\u001b[0;31m---------------------------------------------------------------------------\u001b[0m",
      "\u001b[0;31mValueError\u001b[0m                                Traceback (most recent call last)",
      "\u001b[0;32m<ipython-input-99-9e0e2fbce539>\u001b[0m in \u001b[0;36m<module>\u001b[0;34m()\u001b[0m\n\u001b[1;32m     11\u001b[0m \u001b[0;32mfor\u001b[0m \u001b[0mlst\u001b[0m \u001b[0;32min\u001b[0m \u001b[0mmassaged_combos2\u001b[0m\u001b[0;34m:\u001b[0m\u001b[0;34m\u001b[0m\u001b[0m\n\u001b[1;32m     12\u001b[0m     \u001b[0mregr_cars2\u001b[0m \u001b[0;34m=\u001b[0m \u001b[0mlinear_model\u001b[0m\u001b[0;34m.\u001b[0m\u001b[0mLinearRegression\u001b[0m\u001b[0;34m(\u001b[0m\u001b[0;34m)\u001b[0m\u001b[0;34m\u001b[0m\u001b[0m\n\u001b[0;32m---> 13\u001b[0;31m     \u001b[0mregr_cars2\u001b[0m\u001b[0;34m.\u001b[0m\u001b[0mfit\u001b[0m\u001b[0;34m(\u001b[0m\u001b[0mdf\u001b[0m\u001b[0;34m[\u001b[0m\u001b[0mlst\u001b[0m\u001b[0;34m]\u001b[0m\u001b[0;34m,\u001b[0m \u001b[0mprice2\u001b[0m\u001b[0;34m)\u001b[0m\u001b[0;34m\u001b[0m\u001b[0m\n\u001b[0m\u001b[1;32m     14\u001b[0m     \u001b[0mscores2\u001b[0m\u001b[0;34m.\u001b[0m\u001b[0mappend\u001b[0m\u001b[0;34m(\u001b[0m\u001b[0;34m(\u001b[0m\u001b[0mregr_cars2\u001b[0m\u001b[0;34m.\u001b[0m\u001b[0mscore\u001b[0m\u001b[0;34m(\u001b[0m\u001b[0mdf\u001b[0m\u001b[0;34m[\u001b[0m\u001b[0mlst\u001b[0m\u001b[0;34m]\u001b[0m\u001b[0;34m,\u001b[0m \u001b[0mprice2\u001b[0m\u001b[0;34m)\u001b[0m\u001b[0;34m,\u001b[0m \u001b[0mlst\u001b[0m\u001b[0;34m)\u001b[0m\u001b[0;34m)\u001b[0m\u001b[0;34m\u001b[0m\u001b[0m\n\u001b[1;32m     15\u001b[0m \u001b[0;34m\u001b[0m\u001b[0m\n",
      "\u001b[0;32m/usr/local/lib/python3.5/site-packages/pandas/core/frame.py\u001b[0m in \u001b[0;36m__getitem__\u001b[0;34m(self, key)\u001b[0m\n\u001b[1;32m   1984\u001b[0m         \u001b[0;32mif\u001b[0m \u001b[0misinstance\u001b[0m\u001b[0;34m(\u001b[0m\u001b[0mkey\u001b[0m\u001b[0;34m,\u001b[0m \u001b[0;34m(\u001b[0m\u001b[0mSeries\u001b[0m\u001b[0;34m,\u001b[0m \u001b[0mnp\u001b[0m\u001b[0;34m.\u001b[0m\u001b[0mndarray\u001b[0m\u001b[0;34m,\u001b[0m \u001b[0mIndex\u001b[0m\u001b[0;34m,\u001b[0m \u001b[0mlist\u001b[0m\u001b[0;34m)\u001b[0m\u001b[0;34m)\u001b[0m\u001b[0;34m:\u001b[0m\u001b[0;34m\u001b[0m\u001b[0m\n\u001b[1;32m   1985\u001b[0m             \u001b[0;31m# either boolean or fancy integer index\u001b[0m\u001b[0;34m\u001b[0m\u001b[0;34m\u001b[0m\u001b[0m\n\u001b[0;32m-> 1986\u001b[0;31m             \u001b[0;32mreturn\u001b[0m \u001b[0mself\u001b[0m\u001b[0;34m.\u001b[0m\u001b[0m_getitem_array\u001b[0m\u001b[0;34m(\u001b[0m\u001b[0mkey\u001b[0m\u001b[0;34m)\u001b[0m\u001b[0;34m\u001b[0m\u001b[0m\n\u001b[0m\u001b[1;32m   1987\u001b[0m         \u001b[0;32melif\u001b[0m \u001b[0misinstance\u001b[0m\u001b[0;34m(\u001b[0m\u001b[0mkey\u001b[0m\u001b[0;34m,\u001b[0m \u001b[0mDataFrame\u001b[0m\u001b[0;34m)\u001b[0m\u001b[0;34m:\u001b[0m\u001b[0;34m\u001b[0m\u001b[0m\n\u001b[1;32m   1988\u001b[0m             \u001b[0;32mreturn\u001b[0m \u001b[0mself\u001b[0m\u001b[0;34m.\u001b[0m\u001b[0m_getitem_frame\u001b[0m\u001b[0;34m(\u001b[0m\u001b[0mkey\u001b[0m\u001b[0;34m)\u001b[0m\u001b[0;34m\u001b[0m\u001b[0m\n",
      "\u001b[0;32m/usr/local/lib/python3.5/site-packages/pandas/core/frame.py\u001b[0m in \u001b[0;36m_getitem_array\u001b[0;34m(self, key)\u001b[0m\n\u001b[1;32m   2011\u001b[0m     \u001b[0;32mdef\u001b[0m \u001b[0m_getitem_array\u001b[0m\u001b[0;34m(\u001b[0m\u001b[0mself\u001b[0m\u001b[0;34m,\u001b[0m \u001b[0mkey\u001b[0m\u001b[0;34m)\u001b[0m\u001b[0;34m:\u001b[0m\u001b[0;34m\u001b[0m\u001b[0m\n\u001b[1;32m   2012\u001b[0m         \u001b[0;31m# also raises Exception if object array with NA values\u001b[0m\u001b[0;34m\u001b[0m\u001b[0;34m\u001b[0m\u001b[0m\n\u001b[0;32m-> 2013\u001b[0;31m         \u001b[0;32mif\u001b[0m \u001b[0mcom\u001b[0m\u001b[0;34m.\u001b[0m\u001b[0mis_bool_indexer\u001b[0m\u001b[0;34m(\u001b[0m\u001b[0mkey\u001b[0m\u001b[0;34m)\u001b[0m\u001b[0;34m:\u001b[0m\u001b[0;34m\u001b[0m\u001b[0m\n\u001b[0m\u001b[1;32m   2014\u001b[0m             \u001b[0;31m# warning here just in case -- previously __setitem__ was\u001b[0m\u001b[0;34m\u001b[0m\u001b[0;34m\u001b[0m\u001b[0m\n\u001b[1;32m   2015\u001b[0m             \u001b[0;31m# reindexing but __getitem__ was not; it seems more reasonable to\u001b[0m\u001b[0;34m\u001b[0m\u001b[0;34m\u001b[0m\u001b[0m\n",
      "\u001b[0;32m/usr/local/lib/python3.5/site-packages/pandas/core/common.py\u001b[0m in \u001b[0;36mis_bool_indexer\u001b[0;34m(key)\u001b[0m\n\u001b[1;32m   1856\u001b[0m     \u001b[0;32melif\u001b[0m \u001b[0misinstance\u001b[0m\u001b[0;34m(\u001b[0m\u001b[0mkey\u001b[0m\u001b[0;34m,\u001b[0m \u001b[0mlist\u001b[0m\u001b[0;34m)\u001b[0m\u001b[0;34m:\u001b[0m\u001b[0;34m\u001b[0m\u001b[0m\n\u001b[1;32m   1857\u001b[0m         \u001b[0;32mtry\u001b[0m\u001b[0;34m:\u001b[0m\u001b[0;34m\u001b[0m\u001b[0m\n\u001b[0;32m-> 1858\u001b[0;31m             \u001b[0marr\u001b[0m \u001b[0;34m=\u001b[0m \u001b[0mnp\u001b[0m\u001b[0;34m.\u001b[0m\u001b[0masarray\u001b[0m\u001b[0;34m(\u001b[0m\u001b[0mkey\u001b[0m\u001b[0;34m)\u001b[0m\u001b[0;34m\u001b[0m\u001b[0m\n\u001b[0m\u001b[1;32m   1859\u001b[0m             \u001b[0;32mreturn\u001b[0m \u001b[0marr\u001b[0m\u001b[0;34m.\u001b[0m\u001b[0mdtype\u001b[0m \u001b[0;34m==\u001b[0m \u001b[0mnp\u001b[0m\u001b[0;34m.\u001b[0m\u001b[0mbool_\u001b[0m \u001b[0;32mand\u001b[0m \u001b[0mlen\u001b[0m\u001b[0;34m(\u001b[0m\u001b[0marr\u001b[0m\u001b[0;34m)\u001b[0m \u001b[0;34m==\u001b[0m \u001b[0mlen\u001b[0m\u001b[0;34m(\u001b[0m\u001b[0mkey\u001b[0m\u001b[0;34m)\u001b[0m\u001b[0;34m\u001b[0m\u001b[0m\n\u001b[1;32m   1860\u001b[0m         \u001b[0;32mexcept\u001b[0m \u001b[0mTypeError\u001b[0m\u001b[0;34m:\u001b[0m  \u001b[0;31m# pragma: no cover\u001b[0m\u001b[0;34m\u001b[0m\u001b[0m\n",
      "\u001b[0;32m/usr/local/lib/python3.5/site-packages/numpy/core/numeric.py\u001b[0m in \u001b[0;36masarray\u001b[0;34m(a, dtype, order)\u001b[0m\n\u001b[1;32m    480\u001b[0m \u001b[0;34m\u001b[0m\u001b[0m\n\u001b[1;32m    481\u001b[0m     \"\"\"\n\u001b[0;32m--> 482\u001b[0;31m     \u001b[0;32mreturn\u001b[0m \u001b[0marray\u001b[0m\u001b[0;34m(\u001b[0m\u001b[0ma\u001b[0m\u001b[0;34m,\u001b[0m \u001b[0mdtype\u001b[0m\u001b[0;34m,\u001b[0m \u001b[0mcopy\u001b[0m\u001b[0;34m=\u001b[0m\u001b[0;32mFalse\u001b[0m\u001b[0;34m,\u001b[0m \u001b[0morder\u001b[0m\u001b[0;34m=\u001b[0m\u001b[0morder\u001b[0m\u001b[0;34m)\u001b[0m\u001b[0;34m\u001b[0m\u001b[0m\n\u001b[0m\u001b[1;32m    483\u001b[0m \u001b[0;34m\u001b[0m\u001b[0m\n\u001b[1;32m    484\u001b[0m \u001b[0;32mdef\u001b[0m \u001b[0masanyarray\u001b[0m\u001b[0;34m(\u001b[0m\u001b[0ma\u001b[0m\u001b[0;34m,\u001b[0m \u001b[0mdtype\u001b[0m\u001b[0;34m=\u001b[0m\u001b[0;32mNone\u001b[0m\u001b[0;34m,\u001b[0m \u001b[0morder\u001b[0m\u001b[0;34m=\u001b[0m\u001b[0;32mNone\u001b[0m\u001b[0;34m)\u001b[0m\u001b[0;34m:\u001b[0m\u001b[0;34m\u001b[0m\u001b[0m\n",
      "\u001b[0;31mValueError\u001b[0m: cannot copy sequence with size 804 to array axis with dimension 6"
     ]
    }
   ],
   "source": [
    "feature_columns2 = ['Mileage', 'Cylinder', 'Liter', 'Doors', 'Cruise', 'Sound', 'Leather', dummy_make, dummy_model, dummy_type]\n",
    "price2 = df['Price']\n",
    "\n",
    "combinations2 = [list(itertools.combinations(feature_columns2, x)) for x in range(1,10)]\n",
    "massaged_combos2 = []\n",
    "for lst in combinations2:\n",
    "    for iterable in lst:\n",
    "        massaged_combos2.append(list(iterable))\n",
    "\n",
    "scores2 = []\n",
    "for lst in massaged_combos2:\n",
    "    regr_cars2 = linear_model.LinearRegression()\n",
    "    regr_cars2.fit(df[lst], price2)\n",
    "    scores2.append((regr_cars2.score(df[lst], price2), lst))\n",
    "    \n",
    "sorted(scores2, reverse=True)"
   ]
  },
  {
   "cell_type": "code",
   "execution_count": null,
   "metadata": {
    "collapsed": true
   },
   "outputs": [],
   "source": [
    "dict_df = df.to_dict('records') #will create a dataframe with all columns in original dataframe converted to dictionary"
   ]
  }
 ],
 "metadata": {
  "kernelspec": {
   "display_name": "Python 3",
   "language": "python",
   "name": "python3"
  },
  "language_info": {
   "codemirror_mode": {
    "name": "ipython",
    "version": 3
   },
   "file_extension": ".py",
   "mimetype": "text/x-python",
   "name": "python",
   "nbconvert_exporter": "python",
   "pygments_lexer": "ipython3",
   "version": "3.5.1"
  }
 },
 "nbformat": 4,
 "nbformat_minor": 0
}
